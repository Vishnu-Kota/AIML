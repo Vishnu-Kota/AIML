{
 "cells": [
  {
   "cell_type": "code",
   "execution_count": 1,
   "id": "5b645ac9",
   "metadata": {},
   "outputs": [],
   "source": [
    "from numpy import loadtxt\n",
    "import numpy as np\n",
    "import pandas as pd\n",
    "from keras import models\n",
    "from keras.models import Sequential\n",
    "from keras.layers import Dense\n",
    "from keras import layers\n",
    "from sklearn.model_selection import train_test_split\n",
    "from sklearn import preprocessing\n",
    "import matplotlib.pyplot as plt"
   ]
  },
  {
   "cell_type": "code",
   "execution_count": 4,
   "id": "07b7a89c",
   "metadata": {},
   "outputs": [
    {
     "data": {
      "text/html": [
       "<div>\n",
       "<style scoped>\n",
       "    .dataframe tbody tr th:only-of-type {\n",
       "        vertical-align: middle;\n",
       "    }\n",
       "\n",
       "    .dataframe tbody tr th {\n",
       "        vertical-align: top;\n",
       "    }\n",
       "\n",
       "    .dataframe thead th {\n",
       "        text-align: right;\n",
       "    }\n",
       "</style>\n",
       "<table border=\"1\" class=\"dataframe\">\n",
       "  <thead>\n",
       "    <tr style=\"text-align: right;\">\n",
       "      <th></th>\n",
       "      <th>6</th>\n",
       "      <th>148</th>\n",
       "      <th>72</th>\n",
       "      <th>35</th>\n",
       "      <th>0</th>\n",
       "      <th>33.6</th>\n",
       "      <th>0.627</th>\n",
       "      <th>50</th>\n",
       "      <th>1</th>\n",
       "    </tr>\n",
       "  </thead>\n",
       "  <tbody>\n",
       "    <tr>\n",
       "      <th>0</th>\n",
       "      <td>1</td>\n",
       "      <td>85</td>\n",
       "      <td>66</td>\n",
       "      <td>29</td>\n",
       "      <td>0</td>\n",
       "      <td>26.6</td>\n",
       "      <td>0.351</td>\n",
       "      <td>31</td>\n",
       "      <td>0</td>\n",
       "    </tr>\n",
       "    <tr>\n",
       "      <th>1</th>\n",
       "      <td>8</td>\n",
       "      <td>183</td>\n",
       "      <td>64</td>\n",
       "      <td>0</td>\n",
       "      <td>0</td>\n",
       "      <td>23.3</td>\n",
       "      <td>0.672</td>\n",
       "      <td>32</td>\n",
       "      <td>1</td>\n",
       "    </tr>\n",
       "    <tr>\n",
       "      <th>2</th>\n",
       "      <td>1</td>\n",
       "      <td>89</td>\n",
       "      <td>66</td>\n",
       "      <td>23</td>\n",
       "      <td>94</td>\n",
       "      <td>28.1</td>\n",
       "      <td>0.167</td>\n",
       "      <td>21</td>\n",
       "      <td>0</td>\n",
       "    </tr>\n",
       "    <tr>\n",
       "      <th>3</th>\n",
       "      <td>0</td>\n",
       "      <td>137</td>\n",
       "      <td>40</td>\n",
       "      <td>35</td>\n",
       "      <td>168</td>\n",
       "      <td>43.1</td>\n",
       "      <td>2.288</td>\n",
       "      <td>33</td>\n",
       "      <td>1</td>\n",
       "    </tr>\n",
       "    <tr>\n",
       "      <th>4</th>\n",
       "      <td>5</td>\n",
       "      <td>116</td>\n",
       "      <td>74</td>\n",
       "      <td>0</td>\n",
       "      <td>0</td>\n",
       "      <td>25.6</td>\n",
       "      <td>0.201</td>\n",
       "      <td>30</td>\n",
       "      <td>0</td>\n",
       "    </tr>\n",
       "  </tbody>\n",
       "</table>\n",
       "</div>"
      ],
      "text/plain": [
       "   6  148  72  35    0  33.6  0.627  50  1\n",
       "0  1   85  66  29    0  26.6  0.351  31  0\n",
       "1  8  183  64   0    0  23.3  0.672  32  1\n",
       "2  1   89  66  23   94  28.1  0.167  21  0\n",
       "3  0  137  40  35  168  43.1  2.288  33  1\n",
       "4  5  116  74   0    0  25.6  0.201  30  0"
      ]
     },
     "execution_count": 4,
     "metadata": {},
     "output_type": "execute_result"
    }
   ],
   "source": [
    "dataframe = pd.read_csv('pima-indians-diabetes (1).csv', delimiter=',')\n",
    "dataframe.head()"
   ]
  },
  {
   "cell_type": "code",
   "execution_count": 5,
   "id": "efd85d88",
   "metadata": {},
   "outputs": [],
   "source": [
    "X = dataframe.iloc[:,:8]\n",
    "y = dataframe.iloc[:,8]"
   ]
  },
  {
   "cell_type": "code",
   "execution_count": 6,
   "id": "38d08cd0",
   "metadata": {},
   "outputs": [
    {
     "data": {
      "text/plain": [
       "(767, 9)"
      ]
     },
     "execution_count": 6,
     "metadata": {},
     "output_type": "execute_result"
    }
   ],
   "source": [
    "dataframe.shape"
   ]
  },
  {
   "cell_type": "code",
   "execution_count": 7,
   "id": "fd406f55",
   "metadata": {},
   "outputs": [],
   "source": [
    "features_train,features_test,target_train,target_test=train_test_split(X,y,test_size=0.33,random_state=0)"
   ]
  },
  {
   "cell_type": "code",
   "execution_count": 9,
   "id": "17e3221e",
   "metadata": {},
   "outputs": [],
   "source": [
    "\n",
    "network=models.Sequential()\n",
    "network.add(Dense(units=8,activation=\"relu\",input_shape=(features_train.shape[1],)))\n",
    "network.add(Dense(units=8,activation=\"relu\"))\n",
    "#network.add(Dense(units=16,activation=\"relu\"))\n",
    "network.add(Dense(units=1,activation=\"sigmoid\"))"
   ]
  },
  {
   "cell_type": "code",
   "execution_count": 10,
   "id": "bcc32949",
   "metadata": {},
   "outputs": [],
   "source": [
    "network.compile(loss='binary_crossentropy', optimizer='adam', metrics=['accuracy'])"
   ]
  },
  {
   "cell_type": "code",
   "execution_count": 12,
   "id": "b70cbb87",
   "metadata": {},
   "outputs": [
    {
     "name": "stdout",
     "output_type": "stream",
     "text": [
      "Epoch 1/20\n",
      "6/6 [==============================] - 0s 31ms/step - loss: 1.0212 - accuracy: 0.5926 - val_loss: 0.9059 - val_accuracy: 0.5984\n",
      "Epoch 2/20\n",
      "6/6 [==============================] - 0s 13ms/step - loss: 0.9925 - accuracy: 0.6082 - val_loss: 0.9018 - val_accuracy: 0.6102\n",
      "Epoch 3/20\n",
      "6/6 [==============================] - 0s 13ms/step - loss: 0.9743 - accuracy: 0.6043 - val_loss: 0.8871 - val_accuracy: 0.6063\n",
      "Epoch 4/20\n",
      "6/6 [==============================] - 0s 13ms/step - loss: 0.9623 - accuracy: 0.6101 - val_loss: 0.8621 - val_accuracy: 0.6063\n",
      "Epoch 5/20\n",
      "6/6 [==============================] - 0s 12ms/step - loss: 0.9370 - accuracy: 0.6101 - val_loss: 0.8329 - val_accuracy: 0.6339\n",
      "Epoch 6/20\n",
      "6/6 [==============================] - 0s 13ms/step - loss: 0.9280 - accuracy: 0.6257 - val_loss: 0.8389 - val_accuracy: 0.6142\n",
      "Epoch 7/20\n",
      "6/6 [==============================] - 0s 14ms/step - loss: 0.9145 - accuracy: 0.6238 - val_loss: 0.8364 - val_accuracy: 0.6142\n",
      "Epoch 8/20\n",
      "6/6 [==============================] - 0s 13ms/step - loss: 0.9062 - accuracy: 0.6257 - val_loss: 0.7947 - val_accuracy: 0.6378\n",
      "Epoch 9/20\n",
      "6/6 [==============================] - 0s 13ms/step - loss: 0.8870 - accuracy: 0.6238 - val_loss: 0.7999 - val_accuracy: 0.6260\n",
      "Epoch 10/20\n",
      "6/6 [==============================] - 0s 13ms/step - loss: 0.8806 - accuracy: 0.6296 - val_loss: 0.7761 - val_accuracy: 0.6496\n",
      "Epoch 11/20\n",
      "6/6 [==============================] - 0s 12ms/step - loss: 0.8667 - accuracy: 0.6277 - val_loss: 0.7787 - val_accuracy: 0.6220\n",
      "Epoch 12/20\n",
      "6/6 [==============================] - 0s 14ms/step - loss: 0.8578 - accuracy: 0.6316 - val_loss: 0.7610 - val_accuracy: 0.6339\n",
      "Epoch 13/20\n",
      "6/6 [==============================] - 0s 14ms/step - loss: 0.8527 - accuracy: 0.6316 - val_loss: 0.7744 - val_accuracy: 0.6339\n",
      "Epoch 14/20\n",
      "6/6 [==============================] - 0s 13ms/step - loss: 0.8420 - accuracy: 0.6179 - val_loss: 0.7565 - val_accuracy: 0.6260\n",
      "Epoch 15/20\n",
      "6/6 [==============================] - 0s 13ms/step - loss: 0.8351 - accuracy: 0.6257 - val_loss: 0.7419 - val_accuracy: 0.6496\n",
      "Epoch 16/20\n",
      "6/6 [==============================] - 0s 14ms/step - loss: 0.8306 - accuracy: 0.6277 - val_loss: 0.7537 - val_accuracy: 0.6378\n",
      "Epoch 17/20\n",
      "6/6 [==============================] - 0s 13ms/step - loss: 0.8228 - accuracy: 0.6199 - val_loss: 0.7501 - val_accuracy: 0.6339\n",
      "Epoch 18/20\n",
      "6/6 [==============================] - 0s 13ms/step - loss: 0.8378 - accuracy: 0.6101 - val_loss: 0.7744 - val_accuracy: 0.5945\n",
      "Epoch 19/20\n",
      "6/6 [==============================] - 0s 14ms/step - loss: 0.8179 - accuracy: 0.6199 - val_loss: 0.7194 - val_accuracy: 0.6535\n",
      "Epoch 20/20\n",
      "6/6 [==============================] - 0s 14ms/step - loss: 0.8028 - accuracy: 0.6218 - val_loss: 0.7397 - val_accuracy: 0.6378\n"
     ]
    }
   ],
   "source": [
    "history=network.fit(features_train,target_train,epochs=20,verbose=1,batch_size=100,validation_data=(features_test,target_test))"
   ]
  },
  {
   "cell_type": "code",
   "execution_count": 13,
   "id": "098d29ba",
   "metadata": {},
   "outputs": [],
   "source": [
    "training_loss=history.history[\"loss\"]\n",
    "test_loss=history.history[\"val_loss\"]"
   ]
  },
  {
   "cell_type": "code",
   "execution_count": 14,
   "id": "772bf518",
   "metadata": {},
   "outputs": [],
   "source": [
    "epoch_count=range(1,len(training_loss)+1)"
   ]
  },
  {
   "cell_type": "code",
   "execution_count": 15,
   "id": "9c59aac1",
   "metadata": {},
   "outputs": [
    {
     "data": {
      "image/png": "[encoded data removed]",
      "text/plain": [
       "<Figure size 432x288 with 1 Axes>"
      ]
     },
     "metadata": {
      "needs_background": "light"
     },
     "output_type": "display_data"
    }
   ],
   "source": [
    "plt.plot(epoch_count,training_loss,\"r--\")\n",
    "plt.plot(epoch_count,test_loss,\"b-\")\n",
    "plt.legend([\"Training Loss\",\"Test Loss\"])\n",
    "plt.xlabel(\"Epoch\")\n",
    "plt.ylabel(\"Loss\")\n",
    "plt.show()"
   ]
  },
  {
   "cell_type": "code",
   "execution_count": 16,
   "id": "4f66ef28",
   "metadata": {},
   "outputs": [
    {
     "name": "stdout",
     "output_type": "stream",
     "text": [
      "17/17 [==============================] - 0s 935us/step - loss: 0.8004 - accuracy: 0.6218\n",
      "Accuracy: 62.18\n"
     ]
    }
   ],
   "source": [
    "_, accuracy = network.evaluate(features_train,target_train)\n",
    "print('Accuracy: %.2f' % (accuracy*100))"
   ]
  },
  {
   "cell_type": "code",
   "execution_count": 17,
   "id": "6c90692f",
   "metadata": {},
   "outputs": [],
   "source": [
    "predicted_target= network.predict(features_test)"
   ]
  },
  {
   "cell_type": "code",
   "execution_count": 18,
   "id": "1495735a",
   "metadata": {},
   "outputs": [
    {
     "name": "stdout",
     "output_type": "stream",
     "text": [
      "8/8 [==============================] - 0s 1ms/step - loss: 0.7397 - accuracy: 0.6378\n",
      "Accuracy: 63.78\n"
     ]
    }
   ],
   "source": [
    "_, accuracy = network.evaluate(features_test,target_test)\n",
    "print('Accuracy: %.2f' % (accuracy*100))"
   ]
  },
  {
   "cell_type": "code",
   "execution_count": 19,
   "id": "330cf9a0",
   "metadata": {},
   "outputs": [
    {
     "name": "stdout",
     "output_type": "stream",
     "text": [
      "[0.5542946]\n",
      "[0.30239123]\n",
      "[0.93503064]\n",
      "[0.9876255]\n",
      "[0.3109935]\n",
      "[0.5974994]\n",
      "[0.31755865]\n",
      "[0.9701935]\n",
      "[0.916945]\n",
      "[0.42197728]\n"
     ]
    }
   ],
   "source": [
    "for i in range(10):\n",
    "    print(predicted_target[i])"
   ]
  },
  {
   "cell_type": "code",
   "execution_count": 20,
   "id": "c1d12365",
   "metadata": {},
   "outputs": [
    {
     "data": {
      "image/png": "[encoded data removed]",
      "text/plain": [
       "<Figure size 432x288 with 1 Axes>"
      ]
     },
     "metadata": {
      "needs_background": "light"
     },
     "output_type": "display_data"
    }
   ],
   "source": [
    "training_accuracy=history.history[\"accuracy\"]\n",
    "test_accuracy=history.history[\"val_accuracy\"]\n",
    "plt.plot(epoch_count,training_accuracy,\"r--\")\n",
    "plt.plot(epoch_count,test_accuracy,\"b-\")\n",
    "plt.legend([\"Training Accuracy\",\"Test Accuracy\"])\n",
    "plt.xlabel(\"Epoch\")\n",
    "plt.ylabel(\"Accuracy Score\")\n",
    "plt.show()"
   ]
  },
  {
   "cell_type": "code",
   "execution_count": null,
   "id": "6e2d1c84",
   "metadata": {},
   "outputs": [],
   "source": []
  }
 ],
 "metadata": {
  "kernelspec": {
   "display_name": "Python 3 (ipykernel)",
   "language": "python",
   "name": "python3"
  },
  "language_info": {
   "codemirror_mode": {
    "name": "ipython",
    "version": 3
   },
   "file_extension": ".py",
   "mimetype": "text/x-python",
   "name": "python",
   "nbconvert_exporter": "python",
   "pygments_lexer": "ipython3",
   "version": "3.9.7"
  }
 },
 "nbformat": 4,
 "nbformat_minor": 5
}
